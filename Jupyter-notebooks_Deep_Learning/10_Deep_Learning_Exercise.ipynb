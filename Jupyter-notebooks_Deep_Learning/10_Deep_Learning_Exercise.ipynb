{
 "cells": [
  {
   "cell_type": "markdown",
   "metadata": {},
   "source": [
    "### Exercise: Deep Learning\n",
    "\n",
    "Read through the description of the exercises and select appropriate tools / libraries. Implement the solution below the respective exercise description. Feel free to use the internet, especially the documentation of the presented libraries may be helpful.\n",
    "\n",
    "The data you will be using during the following exercises contains features of 10 000 28x28 hand-written digits in a CSV file. The first column contains the label - the respective digit - while each of the other columns represent the pixel intensity at a given position in the pixel array with values between 0 and 255."
   ]
  },
  {
   "cell_type": "markdown",
   "metadata": {},
   "source": [
    "#### Exercise 1\n",
    "In this exercise, you will use the sklearn implementation of a neural network for image classification.\n",
    "\n",
    "* Have a look at the multilayer perceptron (=vanilla neural network) documentation of scikit-learn: https://scikit-learn.org/stable/modules/generated/sklearn.neural_network.MLPClassifier.html\n",
    "* Load the MNIST data from the csv file in the /Data directory\n",
    "* Split the data into training, validation and test set at a ratio of 70/15/15\n",
    "* Train a neural network based on the sklearn implementation on the training data\n",
    "* Evaluate the performance of the trained model\n",
    "* Try to tweak the parameters of your model until you receive a prediction accuracy of at least 90 % on your test set"
   ]
  },
  {
   "cell_type": "code",
   "execution_count": 626,
   "metadata": {},
   "outputs": [],
   "source": [
    "import sklearn\n",
    "from sklearn.model_selection import train_test_split\n",
    "from sklearn.neural_network import MLPClassifier\n",
    "import pandas as pd\n",
    "import csv\n",
    "import random\n",
    "import os"
   ]
  },
  {
   "cell_type": "code",
   "execution_count": 627,
   "metadata": {},
   "outputs": [],
   "source": [
    "# Seeding random number generators to obtain reproducible results\n",
    "seed_value = 1\n",
    "os.environ['PYTHONHASHSEED']=str(seed_value)\n",
    "random.seed(seed_value)\n",
    "np.random.seed(seed_value) # Resets itself on every use!\n",
    "tf.random.set_seed(seed_value) "
   ]
  },
  {
   "cell_type": "code",
   "execution_count": 628,
   "metadata": {},
   "outputs": [],
   "source": [
    "def display_array(array):\n",
    "    \"\"\"Plotting numpy array\"\"\"\n",
    "    plt.imshow(array.astype(np.uint8))\n",
    "    plt.axis('off')\n",
    "    plt.show()"
   ]
  },
  {
   "cell_type": "code",
   "execution_count": 629,
   "metadata": {},
   "outputs": [
    {
     "name": "stdout",
     "output_type": "stream",
     "text": [
      "['7']\n",
      "[[0, 0, 0, 0, 0, 0, 0, 0, 0, 0, 0, 0, 0, 0, 0, 0, 0, 0, 0, 0, 0, 0, 0, 0, 0, 0, 0, 0, 0, 0, 0, 0, 0, 0, 0, 0, 0, 0, 0, 0, 0, 0, 0, 0, 0, 0, 0, 0, 0, 0, 0, 0, 0, 0, 0, 0, 0, 0, 0, 0, 0, 0, 0, 0, 0, 0, 0, 0, 0, 0, 0, 0, 0, 0, 0, 0, 0, 0, 0, 0, 0, 0, 0, 0, 0, 0, 0, 0, 0, 0, 0, 0, 0, 0, 0, 0, 0, 0, 0, 0, 0, 0, 0, 0, 0, 0, 0, 0, 0, 0, 0, 0, 0, 0, 0, 0, 0, 0, 0, 0, 0, 0, 0, 0, 0, 0, 0, 0, 0, 0, 0, 0, 0, 0, 0, 0, 0, 0, 0, 0, 0, 0, 0, 0, 0, 0, 0, 0, 0, 0, 0, 0, 0, 0, 0, 0, 0, 0, 0, 0, 0, 0, 0, 0, 0, 0, 0, 0, 0, 0, 0, 0, 0, 0, 0, 0, 0, 0, 0, 0, 0, 0, 0, 0, 0, 0, 0, 0, 0, 0, 0, 0, 0, 0, 0, 0, 0, 0, 0, 0, 0, 0, 84, 185, 159, 151, 60, 36, 0, 0, 0, 0, 0, 0, 0, 0, 0, 0, 0, 0, 0, 0, 0, 0, 0, 0, 0, 0, 0, 0, 222, 254, 254, 254, 254, 241, 198, 198, 198, 198, 198, 198, 198, 198, 170, 52, 0, 0, 0, 0, 0, 0, 0, 0, 0, 0, 0, 0, 67, 114, 72, 114, 163, 227, 254, 225, 254, 254, 254, 250, 229, 254, 254, 140, 0, 0, 0, 0, 0, 0, 0, 0, 0, 0, 0, 0, 0, 0, 0, 0, 0, 17, 66, 14, 67, 67, 67, 59, 21, 236, 254, 106, 0, 0, 0, 0, 0, 0, 0, 0, 0, 0, 0, 0, 0, 0, 0, 0, 0, 0, 0, 0, 0, 0, 0, 0, 83, 253, 209, 18, 0, 0, 0, 0, 0, 0, 0, 0, 0, 0, 0, 0, 0, 0, 0, 0, 0, 0, 0, 0, 0, 0, 0, 22, 233, 255, 83, 0, 0, 0, 0, 0, 0, 0, 0, 0, 0, 0, 0, 0, 0, 0, 0, 0, 0, 0, 0, 0, 0, 0, 0, 129, 254, 238, 44, 0, 0, 0, 0, 0, 0, 0, 0, 0, 0, 0, 0, 0, 0, 0, 0, 0, 0, 0, 0, 0, 0, 0, 59, 249, 254, 62, 0, 0, 0, 0, 0, 0, 0, 0, 0, 0, 0, 0, 0, 0, 0, 0, 0, 0, 0, 0, 0, 0, 0, 0, 133, 254, 187, 5, 0, 0, 0, 0, 0, 0, 0, 0, 0, 0, 0, 0, 0, 0, 0, 0, 0, 0, 0, 0, 0, 0, 0, 9, 205, 248, 58, 0, 0, 0, 0, 0, 0, 0, 0, 0, 0, 0, 0, 0, 0, 0, 0, 0, 0, 0, 0, 0, 0, 0, 0, 126, 254, 182, 0, 0, 0, 0, 0, 0, 0, 0, 0, 0, 0, 0, 0, 0, 0, 0, 0, 0, 0, 0, 0, 0, 0, 0, 75, 251, 240, 57, 0, 0, 0, 0, 0, 0, 0, 0, 0, 0, 0, 0, 0, 0, 0, 0, 0, 0, 0, 0, 0, 0, 0, 19, 221, 254, 166, 0, 0, 0, 0, 0, 0, 0, 0, 0, 0, 0, 0, 0, 0, 0, 0, 0, 0, 0, 0, 0, 0, 0, 3, 203, 254, 219, 35, 0, 0, 0, 0, 0, 0, 0, 0, 0, 0, 0, 0, 0, 0, 0, 0, 0, 0, 0, 0, 0, 0, 0, 38, 254, 254, 77, 0, 0, 0, 0, 0, 0, 0, 0, 0, 0, 0, 0, 0, 0, 0, 0, 0, 0, 0, 0, 0, 0, 0, 31, 224, 254, 115, 1, 0, 0, 0, 0, 0, 0, 0, 0, 0, 0, 0, 0, 0, 0, 0, 0, 0, 0, 0, 0, 0, 0, 0, 133, 254, 254, 52, 0, 0, 0, 0, 0, 0, 0, 0, 0, 0, 0, 0, 0, 0, 0, 0, 0, 0, 0, 0, 0, 0, 0, 61, 242, 254, 254, 52, 0, 0, 0, 0, 0, 0, 0, 0, 0, 0, 0, 0, 0, 0, 0, 0, 0, 0, 0, 0, 0, 0, 0, 121, 254, 254, 219, 40, 0, 0, 0, 0, 0, 0, 0, 0, 0, 0, 0, 0, 0, 0, 0, 0, 0, 0, 0, 0, 0, 0, 0, 121, 254, 207, 18, 0, 0, 0, 0, 0, 0, 0, 0, 0, 0, 0, 0, 0, 0, 0, 0, 0, 0, 0, 0, 0, 0, 0, 0, 0, 0, 0, 0, 0, 0, 0, 0, 0, 0, 0, 0, 0, 0, 0, 0, 0, 0]]\n"
     ]
    }
   ],
   "source": [
    "inputs=[]\n",
    "labels=[]\n",
    "\n",
    "\n",
    "with open('Data/mnist.csv') as csvfile:\n",
    "    data = csv.reader(csvfile)\n",
    "    next(data, None)\n",
    "    for row in data:\n",
    "            labels.append(row.pop(0))\n",
    "            inputs.append(list(map(int, row)))\n",
    "\n",
    "print(labels[:1])\n",
    "print(inputs[:1])"
   ]
  },
  {
   "cell_type": "code",
   "execution_count": 630,
   "metadata": {},
   "outputs": [
    {
     "name": "stdout",
     "output_type": "stream",
     "text": [
      "8500\n",
      "1500\n"
     ]
    }
   ],
   "source": [
    "X_train, X_test, y_train, y_test = sklearn.model_selection.train_test_split(inputs, labels, test_size=0.15, random_state=42)\n",
    "print(len(X_train))\n",
    "print(len(X_test))"
   ]
  },
  {
   "cell_type": "code",
   "execution_count": 631,
   "metadata": {},
   "outputs": [],
   "source": [
    "mlp = MLPClassifier(hidden_layer_sizes=[64,32], learning_rate_init=0.0018, max_iter=200, random_state=42,validation_fraction=0.15/0.7, verbose=True)"
   ]
  },
  {
   "cell_type": "code",
   "execution_count": 632,
   "metadata": {},
   "outputs": [
    {
     "name": "stdout",
     "output_type": "stream",
     "text": [
      "<class 'int'>\n"
     ]
    }
   ],
   "source": [
    "print(type(X_train[0][0]))"
   ]
  },
  {
   "cell_type": "code",
   "execution_count": 633,
   "metadata": {},
   "outputs": [
    {
     "name": "stdout",
     "output_type": "stream",
     "text": [
      "Iteration 1, loss = 8.71772518\n",
      "Iteration 2, loss = 2.08620798\n",
      "Iteration 3, loss = 1.23756910\n",
      "Iteration 4, loss = 0.81909845\n",
      "Iteration 5, loss = 0.58388925\n",
      "Iteration 6, loss = 0.42111640\n",
      "Iteration 7, loss = 0.32318834\n",
      "Iteration 8, loss = 0.26567952\n",
      "Iteration 9, loss = 0.22459303\n",
      "Iteration 10, loss = 0.17253968\n",
      "Iteration 11, loss = 0.13638503\n",
      "Iteration 12, loss = 0.11302458\n",
      "Iteration 13, loss = 0.09555302\n",
      "Iteration 14, loss = 0.10279973\n",
      "Iteration 15, loss = 0.07455722\n",
      "Iteration 16, loss = 0.06026716\n",
      "Iteration 17, loss = 0.05497476\n",
      "Iteration 18, loss = 0.05534513\n",
      "Iteration 19, loss = 0.05827688\n",
      "Iteration 20, loss = 0.04895277\n",
      "Iteration 21, loss = 0.04714358\n",
      "Iteration 22, loss = 0.04337945\n",
      "Iteration 23, loss = 0.05802423\n",
      "Iteration 24, loss = 0.05341553\n",
      "Iteration 25, loss = 0.03434347\n",
      "Iteration 26, loss = 0.04047711\n",
      "Iteration 27, loss = 0.04319033\n",
      "Iteration 28, loss = 0.08250827\n",
      "Iteration 29, loss = 0.10884196\n",
      "Iteration 30, loss = 0.13431959\n",
      "Iteration 31, loss = 0.07517436\n",
      "Iteration 32, loss = 0.07332948\n",
      "Iteration 33, loss = 0.05537108\n",
      "Iteration 34, loss = 0.02966437\n",
      "Iteration 35, loss = 0.02394872\n",
      "Iteration 36, loss = 0.00931757\n",
      "Iteration 37, loss = 0.00519385\n",
      "Iteration 38, loss = 0.00256275\n",
      "Iteration 39, loss = 0.00222662\n",
      "Iteration 40, loss = 0.00190153\n",
      "Iteration 41, loss = 0.00162619\n",
      "Iteration 42, loss = 0.00137282\n",
      "Iteration 43, loss = 0.00120032\n",
      "Iteration 44, loss = 0.00105228\n",
      "Iteration 45, loss = 0.00097940\n",
      "Iteration 46, loss = 0.00093988\n",
      "Iteration 47, loss = 0.00088237\n",
      "Iteration 48, loss = 0.00082955\n",
      "Iteration 49, loss = 0.00078756\n",
      "Iteration 50, loss = 0.00075162\n",
      "Iteration 51, loss = 0.00073451\n",
      "Iteration 52, loss = 0.00070749\n",
      "Iteration 53, loss = 0.00067462\n",
      "Iteration 54, loss = 0.00062467\n",
      "Iteration 55, loss = 0.00060317\n",
      "Training loss did not improve more than tol=0.000100 for 10 consecutive epochs. Stopping.\n"
     ]
    }
   ],
   "source": [
    "mlp.fit(X_train, y_train)\n",
    "#print(X_train[0])\n",
    "y_predict = mlp.predict(X_test)"
   ]
  },
  {
   "cell_type": "code",
   "execution_count": 634,
   "metadata": {},
   "outputs": [],
   "source": [
    "mlp_accuracy = sklearn.metrics.accuracy_score(y_test, y_predict)"
   ]
  },
  {
   "cell_type": "code",
   "execution_count": 635,
   "metadata": {},
   "outputs": [
    {
     "name": "stdout",
     "output_type": "stream",
     "text": [
      "0.908\n"
     ]
    }
   ],
   "source": [
    "print(mlp_accuracy)"
   ]
  },
  {
   "cell_type": "markdown",
   "metadata": {},
   "source": [
    "#### Exercise 2\n",
    "In this exercise, you will create another neural network for image classification purposes. However, this time you will be using the keras library.\n",
    "\n",
    "* Load the mnist.csv data from the Data folder\n",
    "* Split the data into training, validation and test set at a ratio of 70/15/15\n",
    "* Train a neural network based on keras on the training data; Use an automated technique to stop the training at a reasonable point \n",
    "* Plot training and validation accuracy of each epoch using a line plot\n",
    "* Evaluate the performance of the trained model and compare it to the performance of the perceptron models\n",
    "* Tweak the parameters of your model (number of layers, units per layer, try adding a dropout layer with different rates, etc.) to find a good model. The test accuracy on your test set should be at least 90 %"
   ]
  },
  {
   "cell_type": "code",
   "execution_count": 636,
   "metadata": {},
   "outputs": [],
   "source": [
    "import tensorflow as tf\n",
    "from tensorflow import keras\n",
    "import numpy as np\n",
    "import math\n",
    "import seaborn as sns\n",
    "import matplotlib.pyplot as plt"
   ]
  },
  {
   "cell_type": "code",
   "execution_count": 637,
   "metadata": {},
   "outputs": [],
   "source": [
    "# Seeding random number generators to obtain reproducible results\n",
    "seed_value = 1\n",
    "os.environ['PYTHONHASHSEED']=str(seed_value)\n",
    "random.seed(seed_value)\n",
    "np.random.seed(seed_value) # Resets itself on every use!\n",
    "tf.random.set_seed(seed_value) "
   ]
  },
  {
   "cell_type": "code",
   "execution_count": 638,
   "metadata": {},
   "outputs": [
    {
     "name": "stdout",
     "output_type": "stream",
     "text": [
      "[0, 0, 0, 0, 0, 0, 0, 0, 0, 0, 0, 0, 0, 0, 0, 0, 0, 0, 0, 0, 0, 0, 0, 0, 0, 0, 0, 0, 0, 0, 0, 0, 0, 0, 0, 0, 0, 0, 0, 0, 0, 0, 0, 0, 0, 0, 0, 0, 0, 0, 0, 0, 0, 0, 0, 0, 0, 0, 0, 0, 0, 0, 0, 0, 0, 0, 0, 0, 0, 0, 0, 0, 0, 0, 0, 0, 0, 0, 0, 0, 0, 0, 0, 0, 0, 0, 0, 0, 0, 0, 0, 0, 0, 0, 0, 0, 0, 0, 0, 0, 0, 0, 0, 0, 0, 0, 0, 0, 0, 0, 0, 0, 0, 0, 0, 0, 0, 0, 0, 0, 0, 0, 0, 0, 0, 0, 0, 0, 0, 0, 0, 0, 0, 0, 0, 0, 0, 0, 0, 0, 0, 0, 0, 0, 0, 0, 0, 0, 0, 37, 134, 41, 0, 0, 0, 0, 0, 0, 83, 255, 174, 0, 0, 0, 0, 0, 0, 0, 0, 0, 0, 0, 0, 0, 0, 0, 8, 201, 253, 174, 0, 0, 0, 0, 0, 79, 244, 254, 135, 0, 0, 0, 0, 0, 0, 0, 0, 0, 0, 0, 0, 0, 0, 0, 165, 254, 247, 84, 0, 0, 0, 0, 0, 136, 253, 254, 106, 0, 0, 0, 0, 0, 0, 0, 0, 0, 0, 0, 0, 0, 0, 67, 248, 254, 142, 0, 0, 0, 0, 0, 0, 136, 253, 199, 3, 0, 0, 0, 0, 0, 0, 0, 0, 0, 0, 0, 0, 0, 0, 234, 253, 193, 46, 0, 0, 0, 0, 0, 31, 219, 253, 195, 0, 0, 0, 0, 0, 0, 0, 0, 0, 0, 0, 0, 0, 0, 102, 254, 254, 99, 0, 0, 0, 0, 0, 0, 138, 254, 254, 196, 0, 0, 0, 0, 0, 0, 0, 0, 0, 0, 0, 0, 0, 0, 175, 253, 253, 23, 0, 0, 0, 0, 0, 0, 175, 253, 253, 113, 0, 0, 0, 0, 0, 0, 0, 0, 0, 0, 0, 0, 0, 14, 229, 253, 253, 183, 73, 0, 0, 0, 0, 7, 199, 253, 253, 68, 0, 31, 0, 0, 0, 0, 0, 0, 0, 0, 0, 0, 0, 17, 241, 253, 253, 254, 251, 234, 143, 100, 40, 56, 253, 253, 253, 25, 24, 65, 8, 0, 0, 0, 0, 0, 0, 0, 0, 0, 0, 0, 101, 253, 253, 254, 253, 253, 253, 253, 254, 253, 253, 253, 253, 231, 230, 205, 8, 0, 0, 0, 0, 0, 0, 0, 0, 0, 0, 0, 0, 91, 173, 255, 254, 254, 254, 254, 255, 254, 254, 254, 254, 255, 151, 0, 0, 0, 0, 0, 0, 0, 0, 0, 0, 0, 0, 0, 0, 0, 0, 39, 46, 135, 135, 135, 238, 253, 253, 253, 162, 114, 6, 0, 0, 0, 0, 0, 0, 0, 0, 0, 0, 0, 0, 0, 0, 0, 0, 0, 0, 0, 0, 0, 59, 253, 253, 253, 96, 0, 0, 0, 0, 0, 0, 0, 0, 0, 0, 0, 0, 0, 0, 0, 0, 0, 0, 0, 0, 0, 0, 0, 74, 253, 253, 247, 49, 0, 0, 0, 0, 0, 0, 0, 0, 0, 0, 0, 0, 0, 0, 0, 0, 0, 0, 0, 0, 0, 0, 0, 156, 253, 253, 176, 0, 0, 0, 0, 0, 0, 0, 0, 0, 0, 0, 0, 0, 0, 0, 0, 0, 0, 0, 0, 0, 0, 0, 0, 217, 254, 254, 117, 0, 0, 0, 0, 0, 0, 0, 0, 0, 0, 0, 0, 0, 0, 0, 0, 0, 0, 0, 0, 0, 0, 0, 0, 254, 253, 253, 117, 0, 0, 0, 0, 0, 0, 0, 0, 0, 0, 0, 0, 0, 0, 0, 0, 0, 0, 0, 0, 0, 0, 0, 0, 254, 253, 253, 117, 0, 0, 0, 0, 0, 0, 0, 0, 0, 0, 0, 0, 0, 0, 0, 0, 0, 0, 0, 0, 0, 0, 0, 91, 254, 253, 240, 23, 0, 0, 0, 0, 0, 0, 0, 0, 0, 0, 0, 0, 0, 0, 0, 0, 0, 0, 0, 0, 0, 0, 0, 23, 254, 170, 70, 0, 0, 0, 0, 0, 0, 0, 0, 0, 0, 0, 0, 0, 0, 0, 0, 0, 0, 0, 0, 0, 0, 0, 0, 0, 0, 0, 0, 0, 0, 0, 0, 0, 0, 0, 0, 0, 0, 0, 0, 0, 0, 0, 0, 0, 0, 0, 0, 0, 0, 0, 0, 0, 0, 0, 0, 0, 0, 0, 0, 0, 0, 0, 0, 0, 0, 0, 0, 0, 0, 0, 0, 0, 0, 0, 0, 0, 0, 0, 0, 0, 0, 0, 0, 0, 0, 0, 0, 0, 0, 0, 0, 0, 0, 0]\n"
     ]
    }
   ],
   "source": [
    "inputs=[]\n",
    "labels=[]\n",
    "\n",
    "\n",
    "with open('Data/mnist.csv') as csvfile:\n",
    "    data = csv.reader(csvfile)\n",
    "    next(data, None)\n",
    "    for row in data:\n",
    "            labels.append(row.pop(0))\n",
    "            inputs.append(list(map(int, row)))\n",
    "\n",
    "# Shuffle features and labels in same order\n",
    "inputs_labels = list(zip(inputs, labels))\n",
    "random.shuffle(inputs_labels)\n",
    "inputs, labels = zip(*inputs_labels)\n",
    "print(inputs[0])"
   ]
  },
  {
   "cell_type": "code",
   "execution_count": 639,
   "metadata": {},
   "outputs": [],
   "source": [
    "train_ratio = 0.7\n",
    "test_ratio = 0.15\n",
    "train_size = math.floor(train_ratio * len(labels))\n",
    "test_size = math.floor(test_ratio * len(labels))\n",
    "\n",
    "# Create splitted sets\n",
    "X_train, y_train = np.array(inputs[:train_size]), np.array(labels[:train_size])\n",
    "X_test, y_test = np.array(inputs[train_size:]), np.array(labels[train_size:])"
   ]
  },
  {
   "cell_type": "code",
   "execution_count": 640,
   "metadata": {},
   "outputs": [],
   "source": [
    "model = keras.Sequential()\n",
    "model.add(keras.layers.Dense(256, input_dim=784, activation=\"relu\"))\n",
    "model.add(keras.layers.Dropout(.1))\n",
    "model.add(keras.layers.Dense(64, activation=\"relu\"))\n",
    "model.add(keras.layers.Dense(10, activation=\"softmax\"))"
   ]
  },
  {
   "cell_type": "code",
   "execution_count": 641,
   "metadata": {},
   "outputs": [],
   "source": [
    "# Create model\n",
    "model.compile(optimizer=tf.keras.optimizers.Adam(),\n",
    "              loss=\"sparse_categorical_crossentropy\",\n",
    "              metrics=[\"sparse_categorical_accuracy\"])"
   ]
  },
  {
   "cell_type": "code",
   "execution_count": 642,
   "metadata": {},
   "outputs": [],
   "source": [
    "# Configure stopping criterion via early stopping\n",
    "callback = tf.keras.callbacks.EarlyStopping(monitor=\"loss\", patience=5)"
   ]
  },
  {
   "cell_type": "code",
   "execution_count": 643,
   "metadata": {},
   "outputs": [],
   "source": [
    "# labels have to be manually cast to integer\n",
    "y_train = y_train.astype(int)\n",
    "y_test = y_test.astype(int)"
   ]
  },
  {
   "cell_type": "code",
   "execution_count": 644,
   "metadata": {},
   "outputs": [
    {
     "name": "stdout",
     "output_type": "stream",
     "text": [
      "Train on 5502 samples, validate on 1498 samples\n",
      "Epoch 1/100\n",
      "5502/5502 [==============================] - 1s 210us/sample - loss: 10.8721 - sparse_categorical_accuracy: 0.7554 - val_loss: 2.9019 - val_sparse_categorical_accuracy: 0.8725\n",
      "Epoch 2/100\n",
      "5502/5502 [==============================] - 1s 106us/sample - loss: 2.2920 - sparse_categorical_accuracy: 0.8773 - val_loss: 2.1088 - val_sparse_categorical_accuracy: 0.8932\n",
      "Epoch 3/100\n",
      "5502/5502 [==============================] - 1s 107us/sample - loss: 1.2781 - sparse_categorical_accuracy: 0.9106 - val_loss: 1.6371 - val_sparse_categorical_accuracy: 0.8865\n",
      "Epoch 4/100\n",
      "5502/5502 [==============================] - 1s 108us/sample - loss: 0.7920 - sparse_categorical_accuracy: 0.9293 - val_loss: 1.4383 - val_sparse_categorical_accuracy: 0.9079\n",
      "Epoch 5/100\n",
      "5502/5502 [==============================] - 1s 107us/sample - loss: 0.7510 - sparse_categorical_accuracy: 0.9395 - val_loss: 1.2455 - val_sparse_categorical_accuracy: 0.9099\n",
      "Epoch 6/100\n",
      "5502/5502 [==============================] - 1s 104us/sample - loss: 0.5116 - sparse_categorical_accuracy: 0.9498 - val_loss: 1.0330 - val_sparse_categorical_accuracy: 0.9192\n",
      "Epoch 7/100\n",
      "5502/5502 [==============================] - 1s 105us/sample - loss: 0.5333 - sparse_categorical_accuracy: 0.9495 - val_loss: 0.9840 - val_sparse_categorical_accuracy: 0.9312\n",
      "Epoch 8/100\n",
      "5502/5502 [==============================] - 1s 105us/sample - loss: 0.4194 - sparse_categorical_accuracy: 0.9555 - val_loss: 0.9949 - val_sparse_categorical_accuracy: 0.9266\n",
      "Epoch 9/100\n",
      "5502/5502 [==============================] - 1s 105us/sample - loss: 0.3475 - sparse_categorical_accuracy: 0.9636 - val_loss: 1.1530 - val_sparse_categorical_accuracy: 0.9306\n",
      "Epoch 10/100\n",
      "5502/5502 [==============================] - 1s 104us/sample - loss: 0.3661 - sparse_categorical_accuracy: 0.9620 - val_loss: 1.0445 - val_sparse_categorical_accuracy: 0.9279\n",
      "Epoch 11/100\n",
      "5502/5502 [==============================] - 1s 104us/sample - loss: 0.3909 - sparse_categorical_accuracy: 0.9620 - val_loss: 0.9242 - val_sparse_categorical_accuracy: 0.9339\n",
      "Epoch 12/100\n",
      "5502/5502 [==============================] - 1s 104us/sample - loss: 0.3492 - sparse_categorical_accuracy: 0.9664 - val_loss: 0.9163 - val_sparse_categorical_accuracy: 0.9359\n",
      "Epoch 13/100\n",
      "5502/5502 [==============================] - 1s 106us/sample - loss: 0.2118 - sparse_categorical_accuracy: 0.9747 - val_loss: 0.8077 - val_sparse_categorical_accuracy: 0.9473\n",
      "Epoch 14/100\n",
      "5502/5502 [==============================] - 1s 105us/sample - loss: 0.3016 - sparse_categorical_accuracy: 0.9706 - val_loss: 1.3981 - val_sparse_categorical_accuracy: 0.9172\n",
      "Epoch 15/100\n",
      "5502/5502 [==============================] - 1s 104us/sample - loss: 0.4119 - sparse_categorical_accuracy: 0.9635 - val_loss: 0.9495 - val_sparse_categorical_accuracy: 0.9406\n",
      "Epoch 16/100\n",
      "5502/5502 [==============================] - 1s 104us/sample - loss: 0.2438 - sparse_categorical_accuracy: 0.9713 - val_loss: 0.8930 - val_sparse_categorical_accuracy: 0.9332\n",
      "Epoch 17/100\n",
      "5502/5502 [==============================] - 1s 105us/sample - loss: 0.2607 - sparse_categorical_accuracy: 0.9746 - val_loss: 1.1270 - val_sparse_categorical_accuracy: 0.9292\n",
      "Epoch 18/100\n",
      "5502/5502 [==============================] - 1s 104us/sample - loss: 0.2311 - sparse_categorical_accuracy: 0.9767 - val_loss: 0.8681 - val_sparse_categorical_accuracy: 0.9379\n"
     ]
    }
   ],
   "source": [
    "# Train model\n",
    "history = model.fit(X_train, \n",
    "                    y_train,\n",
    "                    validation_split=0.214,\n",
    "                    epochs=100,\n",
    "                    callbacks=[callback],\n",
    "                    verbose=True)"
   ]
  },
  {
   "cell_type": "code",
   "execution_count": 645,
   "metadata": {},
   "outputs": [
    {
     "name": "stdout",
     "output_type": "stream",
     "text": [
      "3000/3000 [==============================] - 0s 43us/sample - loss: 1.2564 - sparse_categorical_accuracy: 0.9277\n",
      "ACC: 0.93\n"
     ]
    }
   ],
   "source": [
    "# Evaluate model\n",
    "test_loss, test_acc = model.evaluate(X_test, y_test)\n",
    "\n",
    "# Display output\n",
    "print(\"ACC:\", round(test_acc, 2))"
   ]
  },
  {
   "cell_type": "code",
   "execution_count": 646,
   "metadata": {},
   "outputs": [
    {
     "data": {
      "image/png": "[encoded data removed]",
      "text/plain": [
       "<Figure size 432x288 with 1 Axes>"
      ]
     },
     "metadata": {
      "needs_background": "light"
     },
     "output_type": "display_data"
    }
   ],
   "source": [
    "# Plot Performance\n",
    "num_epochs = len(history.history[\"sparse_categorical_accuracy\"])\n",
    "sns.lineplot(x=np.arange(num_epochs), y=history.history[\"sparse_categorical_accuracy\"])\n",
    "sns.lineplot(x=np.arange(num_epochs), y=history.history[\"val_sparse_categorical_accuracy\"])\n",
    "plt.legend(labels=[\"Training\", \"Validation\"])\n",
    "plt.xlabel(\"Epoch\")\n",
    "plt.ylabel(\"Accuracy\")\n",
    "plt.title(\"Training versus validation performance\")\n",
    "plt.show()"
   ]
  },
  {
   "cell_type": "code",
   "execution_count": 647,
   "metadata": {},
   "outputs": [
    {
     "name": "stdout",
     "output_type": "stream",
     "text": [
      "MLP Accuracy:  0.908\n",
      "Keras Accuracy:  0.92766666\n",
      "Performance Difference: 0.019666664123535127\n"
     ]
    }
   ],
   "source": [
    "print(\"MLP Accuracy: \", mlp_accuracy)\n",
    "print(\"Keras Accuracy: \", test_acc)\n",
    "print(\"Performance Difference:\", abs(mlp_accuracy-test_acc))"
   ]
  },
  {
   "cell_type": "markdown",
   "metadata": {},
   "source": [
    "#### Exercise 3\n",
    "\n",
    "In this exercise you shall investigate the influence of data augmentation on the MNIST model\n",
    "\n",
    "* Write a function for augmenting your training data\n",
    "* Make sure the data augmentation function randomly assigns one or more of the following transformations to the images: rotation, translation, flipping\n",
    "* Train a model with the same architecture as in exercise 2 but this time, use the data augmentation function to increase the amount of data for training\n",
    "* Compare performance and loss of the models from exercise 2 and 3 using appropriate visualization tools"
   ]
  },
  {
   "cell_type": "code",
   "execution_count": 681,
   "metadata": {},
   "outputs": [],
   "source": [
    "import cv2"
   ]
  },
  {
   "cell_type": "code",
   "execution_count": 682,
   "metadata": {},
   "outputs": [],
   "source": [
    "# Seeding random number generators to obtain reproducible results\n",
    "seed_value = 1\n",
    "os.environ['PYTHONHASHSEED']=str(seed_value)\n",
    "random.seed(seed_value)\n",
    "np.random.seed(seed_value) # Resets itself on every use!\n",
    "tf.random.set_seed(seed_value) "
   ]
  },
  {
   "cell_type": "code",
   "execution_count": 683,
   "metadata": {},
   "outputs": [],
   "source": [
    "def display_array(array):\n",
    "    if array.ndim > 2: # Check whether image is colored\n",
    "        array = cv2.cvtColor(array.astype(\"uint8\"), cv2.COLOR_BGR2RGB) # Swap BGR to RGB\n",
    "    pil_img = Image.fromarray(array)\n",
    "    display(pil_img)"
   ]
  },
  {
   "cell_type": "code",
   "execution_count": 684,
   "metadata": {},
   "outputs": [],
   "source": [
    "def augment_data(X_train, y_train, size=0):  \n",
    "    # Convert images to 2D\n",
    "    images = X_train.reshape(7000,28,28).astype('float32')\n",
    "    \n",
    "    # Set number of images to augment to the same number as input images if size is zero\n",
    "    if size == 0:\n",
    "        size = len(images)\n",
    "    \n",
    "    # Create augmented images equal to size\n",
    "    augmented_images = []\n",
    "    new_labels = []\n",
    "    for i in np.arange(size):\n",
    "        \n",
    "        # Select random images\n",
    "        random_index = np.random.choice(np.arange(0, len(images)))\n",
    "        img = images[random_index]\n",
    "        \n",
    "        # Rotate image with random parameters\n",
    "        rows,cols = img.shape[:2]\n",
    "        rot_matrix = cv2.getRotationMatrix2D(center=(cols/2, rows/2), \n",
    "                                             angle=np.random.randint(-35, 35), \n",
    "                                             scale=1)\n",
    "        img = cv2.warpAffine(img, rot_matrix, (cols,rows))\n",
    "        \n",
    "        # Add augmented image and corresponding labels to result containers\n",
    "        augmented_images.append(img.flatten())\n",
    "        new_labels.append(labels[random_index])\n",
    "        \n",
    "    return np.array(augmented_images), np.array(new_labels)"
   ]
  },
  {
   "cell_type": "code",
   "execution_count": 685,
   "metadata": {},
   "outputs": [],
   "source": [
    "inputs=[]\n",
    "labels=[]\n",
    "\n",
    "\n",
    "with open('Data/mnist.csv') as csvfile:\n",
    "    data = csv.reader(csvfile)\n",
    "    next(data, None)\n",
    "    for row in data:\n",
    "            labels.append(row.pop(0))\n",
    "            inputs.append(list(map(int, row)))"
   ]
  },
  {
   "cell_type": "code",
   "execution_count": 686,
   "metadata": {},
   "outputs": [],
   "source": [
    "# Shuffle features and labels in same order\n",
    "inputs_labels = list(zip(inputs, labels))\n",
    "random.shuffle(inputs_labels)\n",
    "inputs, labels = zip(*inputs_labels)\n",
    "\n",
    "train_ratio = 0.7\n",
    "test_ratio = 0.15\n",
    "train_size = math.floor(train_ratio * len(labels))\n",
    "test_size = math.floor(test_ratio * len(labels))\n",
    "\n",
    "# Create splitted sets\n",
    "X_train, y_train = np.array(inputs[:train_size]), np.array(labels[:train_size])\n",
    "X_test, y_test = np.array(inputs[train_size:]), np.array(labels[train_size:])"
   ]
  },
  {
   "cell_type": "code",
   "execution_count": 687,
   "metadata": {},
   "outputs": [
    {
     "name": "stdout",
     "output_type": "stream",
     "text": [
      "(5000,)\n"
     ]
    }
   ],
   "source": [
    "X_train_augmented, y_train_augmented = augment_data(X_train, y_train, 5000)\n",
    "print(y_train_augmented.shape)"
   ]
  },
  {
   "cell_type": "code",
   "execution_count": 688,
   "metadata": {},
   "outputs": [],
   "source": [
    "# add augmented data\n",
    "X_train_increased = np.concatenate((X_train, X_train_augmented))\n",
    "y_train_increased = np.concatenate((y_train, y_train_augmented))"
   ]
  },
  {
   "cell_type": "code",
   "execution_count": 689,
   "metadata": {},
   "outputs": [
    {
     "name": "stdout",
     "output_type": "stream",
     "text": [
      "(7000, 784)\n",
      "(5000, 784)\n",
      "(12000, 784)\n",
      "(12000,)\n"
     ]
    }
   ],
   "source": [
    "print(X_train.shape)\n",
    "print(X_train_augmented.shape)\n",
    "print(X_train_increased.shape)\n",
    "print(y_train_increased.shape)"
   ]
  },
  {
   "cell_type": "code",
   "execution_count": 690,
   "metadata": {},
   "outputs": [],
   "source": [
    "model = keras.Sequential()\n",
    "model.add(keras.layers.Dense(256, input_dim=784, activation=\"relu\"))\n",
    "model.add(keras.layers.Dropout(.1))\n",
    "model.add(keras.layers.Dense(64, activation=\"relu\"))\n",
    "model.add(keras.layers.Dense(10, activation=\"softmax\"))\n",
    "\n",
    "# Create model\n",
    "model.compile(optimizer=tf.keras.optimizers.Adam(),\n",
    "              loss=\"sparse_categorical_crossentropy\",\n",
    "              metrics=[\"sparse_categorical_accuracy\"])\n",
    "\n",
    "# Configure stopping criterion via early stopping\n",
    "callback = tf.keras.callbacks.EarlyStopping(monitor=\"loss\", patience=5)\n",
    "\n",
    "# labels have to be manually cast to integer\n",
    "y_train_increased = y_train_increased.astype(int)\n",
    "y_train_augmented = y_train_augmented.astype(int)\n",
    "y_test = y_test.astype(int)"
   ]
  },
  {
   "cell_type": "code",
   "execution_count": 691,
   "metadata": {},
   "outputs": [
    {
     "name": "stdout",
     "output_type": "stream",
     "text": [
      "Train on 9432 samples, validate on 2568 samples\n",
      "Epoch 1/100\n",
      "9432/9432 [==============================] - 1s 144us/sample - loss: 7.3636 - sparse_categorical_accuracy: 0.6861 - val_loss: 1.5249 - val_sparse_categorical_accuracy: 0.5876\n",
      "Epoch 2/100\n",
      "9432/9432 [==============================] - 1s 101us/sample - loss: 1.1161 - sparse_categorical_accuracy: 0.7448 - val_loss: 1.1333 - val_sparse_categorical_accuracy: 0.7181\n",
      "Epoch 3/100\n",
      "9432/9432 [==============================] - 1s 103us/sample - loss: 0.7553 - sparse_categorical_accuracy: 0.8200 - val_loss: 0.9411 - val_sparse_categorical_accuracy: 0.7512\n",
      "Epoch 4/100\n",
      "9432/9432 [==============================] - 1s 89us/sample - loss: 0.6509 - sparse_categorical_accuracy: 0.8404 - val_loss: 0.8917 - val_sparse_categorical_accuracy: 0.7644\n",
      "Epoch 5/100\n",
      "9432/9432 [==============================] - 1s 95us/sample - loss: 0.5530 - sparse_categorical_accuracy: 0.8612 - val_loss: 0.8461 - val_sparse_categorical_accuracy: 0.7710\n",
      "Epoch 6/100\n",
      "9432/9432 [==============================] - 1s 99us/sample - loss: 0.4809 - sparse_categorical_accuracy: 0.8734 - val_loss: 0.7186 - val_sparse_categorical_accuracy: 0.8006\n",
      "Epoch 7/100\n",
      "9432/9432 [==============================] - 1s 96us/sample - loss: 0.3898 - sparse_categorical_accuracy: 0.8944 - val_loss: 0.7257 - val_sparse_categorical_accuracy: 0.8252\n",
      "Epoch 8/100\n",
      "9432/9432 [==============================] - 1s 96us/sample - loss: 0.3699 - sparse_categorical_accuracy: 0.9024 - val_loss: 0.7309 - val_sparse_categorical_accuracy: 0.8127\n",
      "Epoch 9/100\n",
      "9432/9432 [==============================] - 1s 95us/sample - loss: 0.3380 - sparse_categorical_accuracy: 0.9051 - val_loss: 0.6594 - val_sparse_categorical_accuracy: 0.8450\n",
      "Epoch 10/100\n",
      "9432/9432 [==============================] - 1s 95us/sample - loss: 0.3197 - sparse_categorical_accuracy: 0.9128 - val_loss: 0.6856 - val_sparse_categorical_accuracy: 0.8474\n",
      "Epoch 11/100\n",
      "9432/9432 [==============================] - 1s 95us/sample - loss: 0.3325 - sparse_categorical_accuracy: 0.9138 - val_loss: 0.7155 - val_sparse_categorical_accuracy: 0.8162\n",
      "Epoch 12/100\n",
      "9432/9432 [==============================] - 1s 96us/sample - loss: 0.2921 - sparse_categorical_accuracy: 0.9212 - val_loss: 0.6577 - val_sparse_categorical_accuracy: 0.8353\n",
      "Epoch 13/100\n",
      "9432/9432 [==============================] - 1s 107us/sample - loss: 0.2850 - sparse_categorical_accuracy: 0.9255 - val_loss: 0.7817 - val_sparse_categorical_accuracy: 0.8450\n",
      "Epoch 14/100\n",
      "9432/9432 [==============================] - 1s 105us/sample - loss: 0.2699 - sparse_categorical_accuracy: 0.9286 - val_loss: 0.7824 - val_sparse_categorical_accuracy: 0.8501\n",
      "Epoch 15/100\n",
      "9432/9432 [==============================] - 1s 104us/sample - loss: 0.2415 - sparse_categorical_accuracy: 0.9346 - val_loss: 0.5646 - val_sparse_categorical_accuracy: 0.8692\n",
      "Epoch 16/100\n",
      "9432/9432 [==============================] - 1s 106us/sample - loss: 0.2105 - sparse_categorical_accuracy: 0.9456 - val_loss: 0.5593 - val_sparse_categorical_accuracy: 0.8567\n",
      "Epoch 17/100\n",
      "9432/9432 [==============================] - 1s 105us/sample - loss: 0.1730 - sparse_categorical_accuracy: 0.9526 - val_loss: 0.5819 - val_sparse_categorical_accuracy: 0.8828\n",
      "Epoch 18/100\n",
      "9432/9432 [==============================] - 1s 102us/sample - loss: 0.1753 - sparse_categorical_accuracy: 0.9508 - val_loss: 0.6648 - val_sparse_categorical_accuracy: 0.8746\n",
      "Epoch 19/100\n",
      "9432/9432 [==============================] - 1s 105us/sample - loss: 0.1758 - sparse_categorical_accuracy: 0.9528 - val_loss: 0.7004 - val_sparse_categorical_accuracy: 0.8863\n",
      "Epoch 20/100\n",
      "9432/9432 [==============================] - 1s 107us/sample - loss: 0.1797 - sparse_categorical_accuracy: 0.9534 - val_loss: 0.5692 - val_sparse_categorical_accuracy: 0.8723\n",
      "Epoch 21/100\n",
      "9432/9432 [==============================] - 1s 112us/sample - loss: 0.1661 - sparse_categorical_accuracy: 0.9543 - val_loss: 0.5225 - val_sparse_categorical_accuracy: 0.8956\n",
      "Epoch 22/100\n",
      "9432/9432 [==============================] - 1s 111us/sample - loss: 0.1295 - sparse_categorical_accuracy: 0.9660 - val_loss: 0.6120 - val_sparse_categorical_accuracy: 0.8840\n",
      "Epoch 23/100\n",
      "9432/9432 [==============================] - 1s 116us/sample - loss: 0.1300 - sparse_categorical_accuracy: 0.9643 - val_loss: 0.6497 - val_sparse_categorical_accuracy: 0.8941\n",
      "Epoch 24/100\n",
      "9432/9432 [==============================] - 1s 104us/sample - loss: 0.1290 - sparse_categorical_accuracy: 0.9649 - val_loss: 0.6670 - val_sparse_categorical_accuracy: 0.8769\n",
      "Epoch 25/100\n",
      "9432/9432 [==============================] - 1s 104us/sample - loss: 0.1383 - sparse_categorical_accuracy: 0.9627 - val_loss: 0.5853 - val_sparse_categorical_accuracy: 0.8972\n",
      "Epoch 26/100\n",
      "9432/9432 [==============================] - 1s 107us/sample - loss: 0.1213 - sparse_categorical_accuracy: 0.9672 - val_loss: 0.5188 - val_sparse_categorical_accuracy: 0.9081\n",
      "Epoch 27/100\n",
      "9432/9432 [==============================] - 1s 110us/sample - loss: 0.1284 - sparse_categorical_accuracy: 0.9683 - val_loss: 0.5298 - val_sparse_categorical_accuracy: 0.9046\n",
      "Epoch 28/100\n",
      "9432/9432 [==============================] - 1s 108us/sample - loss: 0.0944 - sparse_categorical_accuracy: 0.9755 - val_loss: 0.5524 - val_sparse_categorical_accuracy: 0.8976\n",
      "Epoch 29/100\n",
      "9432/9432 [==============================] - 1s 108us/sample - loss: 0.1026 - sparse_categorical_accuracy: 0.9721 - val_loss: 0.7666 - val_sparse_categorical_accuracy: 0.8929\n",
      "Epoch 30/100\n",
      "9432/9432 [==============================] - 1s 110us/sample - loss: 0.1420 - sparse_categorical_accuracy: 0.9641 - val_loss: 0.4630 - val_sparse_categorical_accuracy: 0.9015\n",
      "Epoch 31/100\n",
      "9432/9432 [==============================] - 1s 111us/sample - loss: 0.1086 - sparse_categorical_accuracy: 0.9713 - val_loss: 0.4376 - val_sparse_categorical_accuracy: 0.9151\n",
      "Epoch 32/100\n",
      "9432/9432 [==============================] - 1s 110us/sample - loss: 0.1094 - sparse_categorical_accuracy: 0.9703 - val_loss: 0.5475 - val_sparse_categorical_accuracy: 0.8964\n",
      "Epoch 33/100\n",
      "9432/9432 [==============================] - 1s 115us/sample - loss: 0.0933 - sparse_categorical_accuracy: 0.9752 - val_loss: 0.4823 - val_sparse_categorical_accuracy: 0.9151\n",
      "Epoch 34/100\n",
      "9432/9432 [==============================] - 1s 109us/sample - loss: 0.0882 - sparse_categorical_accuracy: 0.9781 - val_loss: 0.5775 - val_sparse_categorical_accuracy: 0.9128\n",
      "Epoch 35/100\n",
      "9432/9432 [==============================] - 1s 109us/sample - loss: 0.0911 - sparse_categorical_accuracy: 0.9790 - val_loss: 0.5639 - val_sparse_categorical_accuracy: 0.9159\n",
      "Epoch 36/100\n",
      "9432/9432 [==============================] - 1s 106us/sample - loss: 0.0649 - sparse_categorical_accuracy: 0.9832 - val_loss: 0.4760 - val_sparse_categorical_accuracy: 0.9186\n",
      "Epoch 37/100\n",
      "9432/9432 [==============================] - 1s 101us/sample - loss: 0.0602 - sparse_categorical_accuracy: 0.9845 - val_loss: 0.5358 - val_sparse_categorical_accuracy: 0.9143\n",
      "Epoch 38/100\n",
      "9432/9432 [==============================] - 1s 102us/sample - loss: 0.0857 - sparse_categorical_accuracy: 0.9803 - val_loss: 0.5047 - val_sparse_categorical_accuracy: 0.9069\n",
      "Epoch 39/100\n",
      "9432/9432 [==============================] - 1s 111us/sample - loss: 0.0718 - sparse_categorical_accuracy: 0.9825 - val_loss: 0.5266 - val_sparse_categorical_accuracy: 0.9116\n",
      "Epoch 40/100\n",
      "9432/9432 [==============================] - 1s 107us/sample - loss: 0.0904 - sparse_categorical_accuracy: 0.9772 - val_loss: 0.8043 - val_sparse_categorical_accuracy: 0.9011\n",
      "Epoch 41/100\n",
      "9432/9432 [==============================] - 1s 110us/sample - loss: 0.0755 - sparse_categorical_accuracy: 0.9816 - val_loss: 0.5387 - val_sparse_categorical_accuracy: 0.9210\n",
      "Epoch 42/100\n",
      "9432/9432 [==============================] - 1s 107us/sample - loss: 0.0897 - sparse_categorical_accuracy: 0.9818 - val_loss: 0.7490 - val_sparse_categorical_accuracy: 0.9139\n"
     ]
    }
   ],
   "source": [
    "# Train model\n",
    "history_augmented = model.fit(X_train_increased, \n",
    "                    y_train_increased,\n",
    "                    validation_split=0.214,\n",
    "                    epochs=100,\n",
    "                    callbacks=[callback],\n",
    "                    verbose=True)"
   ]
  },
  {
   "cell_type": "code",
   "execution_count": 692,
   "metadata": {},
   "outputs": [
    {
     "name": "stdout",
     "output_type": "stream",
     "text": [
      "3000/3000 [==============================] - 0s 70us/sample - loss: 0.4693 - sparse_categorical_accuracy: 0.9477\n",
      "ACC: 0.93\n"
     ]
    }
   ],
   "source": [
    "# Evaluate model\n",
    "augmented_test_loss, augmented_test_acc = model.evaluate(X_test, y_test)\n",
    "\n",
    "# Display output\n",
    "print(\"ACC:\", round(test_acc, 2))"
   ]
  },
  {
   "cell_type": "code",
   "execution_count": 693,
   "metadata": {},
   "outputs": [
    {
     "data": {
      "image/png": "[encoded data removed]",
      "text/plain": [
       "<Figure size 432x288 with 1 Axes>"
      ]
     },
     "metadata": {
      "needs_background": "light"
     },
     "output_type": "display_data"
    },
    {
     "data": {
      "image/png": "[encoded data removed]",
      "text/plain": [
       "<Figure size 432x288 with 1 Axes>"
      ]
     },
     "metadata": {
      "needs_background": "light"
     },
     "output_type": "display_data"
    }
   ],
   "source": [
    "# Plot loss for model with and without augmentation\n",
    "num_epochs = len(history.history[\"loss\"])\n",
    "sns.lineplot(x=np.arange(num_epochs), y=history.history[\"loss\"])\n",
    "sns.lineplot(x=np.arange(num_epochs), y=history.history[\"val_loss\"])\n",
    "plt.legend(labels=[\"Training\", \"Validation\"])\n",
    "plt.xlabel(\"Epoch\")\n",
    "plt.ylabel(\"Loss\")\n",
    "plt.title(\"Loss without augmentation\")\n",
    "plt.show()\n",
    "\n",
    "num_epochs = len(history_augmented.history[\"loss\"])\n",
    "sns.lineplot(x=np.arange(num_epochs), y=history_augmented.history[\"loss\"])\n",
    "sns.lineplot(x=np.arange(num_epochs), y=history_augmented.history[\"val_loss\"])\n",
    "plt.legend(labels=[\"Training\", \"Validation\"])\n",
    "plt.xlabel(\"Epoch\")\n",
    "plt.ylabel(\"Loss\")\n",
    "plt.title(\"Loss with augmentation\")\n",
    "plt.show()\n"
   ]
  },
  {
   "cell_type": "code",
   "execution_count": 694,
   "metadata": {},
   "outputs": [
    {
     "name": "stdout",
     "output_type": "stream",
     "text": [
      "Without Augmentation Accuracy:  0.92766666\n",
      "With Augmentation Accuracy: 0.94766665\n"
     ]
    }
   ],
   "source": [
    "print(\"Without Augmentation Accuracy: \", test_acc)\n",
    "print(\"With Augmentation Accuracy:\", augmented_test_acc)"
   ]
  },
  {
   "cell_type": "code",
   "execution_count": null,
   "metadata": {},
   "outputs": [],
   "source": []
  },
  {
   "cell_type": "code",
   "execution_count": null,
   "metadata": {},
   "outputs": [],
   "source": []
  }
 ],
 "metadata": {
  "kernelspec": {
   "display_name": "Python 3 (ipykernel)",
   "language": "python",
   "name": "python3"
  },
  "language_info": {
   "codemirror_mode": {
    "name": "ipython",
    "version": 3
   },
   "file_extension": ".py",
   "mimetype": "text/x-python",
   "name": "python",
   "nbconvert_exporter": "python",
   "pygments_lexer": "ipython3",
   "version": "3.7.11"
  }
 },
 "nbformat": 4,
 "nbformat_minor": 4
}
